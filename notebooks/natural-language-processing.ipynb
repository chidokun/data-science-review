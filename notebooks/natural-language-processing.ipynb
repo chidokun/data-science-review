{
 "cells": [
  {
   "cell_type": "markdown",
   "metadata": {},
   "source": [
    "# Fundamental of Natural Language Processing"
   ]
  },
  {
   "cell_type": "code",
   "execution_count": null,
   "metadata": {},
   "outputs": [],
   "source": [
    "- [Các thuật ngữ trong Xử lý ngôn ngữ tự nhiên](https://ongxuanhong.wordpress.com/2016/02/05/cac-thuat-ngu-trong-xu-ly-ngon-ngu-tu-nhien/)\n",
    "- [Language Modeling là gì](https://ongxuanhong.wordpress.com/2016/08/27/language-modeling-la-gi/)\n"
   ]
  },
  {
   "cell_type": "markdown",
   "metadata": {},
   "source": [
    "# Text Normalization\n",
    "\n",
    "- converting all letters to lower or\n",
    "upper case\n",
    "- converting numbers into words\n",
    "or removing numbers\n",
    "- removing punctuations, accent\n",
    "marks and other diacritics\n",
    "- removing white spaces\n",
    "- removing stop words, and\n",
    "particular words\""
   ]
  },
  {
   "cell_type": "code",
   "execution_count": null,
   "metadata": {},
   "outputs": [],
   "source": []
  }
 ],
 "metadata": {
  "language_info": {
   "codemirror_mode": {
    "name": "ipython",
    "version": 2
   },
   "file_extension": ".py",
   "mimetype": "text/x-python",
   "name": "python",
   "nbconvert_exporter": "python",
   "pygments_lexer": "ipython2",
   "version": "3.7.7-final"
  },
  "orig_nbformat": 2,
  "kernelspec": {
   "name": "python38164bittuanconda0d1158ff6a3f4103ab371d8d1b87e888",
   "display_name": "Python 3.8.1 64-bit ('tuan': conda)"
  }
 },
 "nbformat": 4,
 "nbformat_minor": 2
}