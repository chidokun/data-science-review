{
 "cells": [
  {
   "cell_type": "markdown",
   "metadata": {},
   "source": [
    "# Python, Data Structure and Data\n",
    "\n",
    "Phần này sẽ hướng dẫn các bạn làm quen với Python, cách dùng một số cấu trúc dữ liệu và thao tác cơ bản với data dùng Pandas.\n"
   ]
  },
  {
   "cell_type": "markdown",
   "metadata": {},
   "source": [
    "## 1. Python\n",
    "\n",
    "**1.1. Biến và kiểu dữ liệu**\n",
    "\n",
    "Xem thêm:\n",
    "- [Data Types and Variables In Python](https://overiq.com/python-101/data-types-and-variables-in-python/)\n",
    "- [Numbers in Python](https://overiq.com/python-101/numbers-in-python/)\n",
    "- [Operators in Python](https://overiq.com/python-101/operators-in-python/)\n"
   ]
  },
  {
   "cell_type": "code",
   "execution_count": 9,
   "metadata": {},
   "outputs": [
    {
     "name": "stdout",
     "output_type": "stream",
     "text": [
      "c =  8.0\n",
      "3\n"
     ]
    }
   ],
   "source": [
    "a = 5 # khai báo biến a kiểu nguyên\n",
    "b = 3.0 # khai báo biến b kiểu thực \n",
    "print(\"Type of a: \", type(a)) # xem kiểu của biến a\n",
    "print(\"Type of b: \", type(b)) # xem kiểu của biến b\n",
    "\n",
    "c = a + b # phép cộng\n",
    "print(\"c = \", c) # Hàm `print` để in dữ liệu\n",
    "\n",
    "c = a - b # phép trừ\n",
    "c = a * b # phép nhân\n",
    "c = a / b # phép chia\n",
    "c = a // b # phép chia nguyên\n",
    "c = a % b # phép chia dư\n",
    "c = a ** b # phép lũy thừa\n",
    "c = int(b) # chuyển kiểu\n",
    "print(c)"
   ]
  },
  {
   "cell_type": "markdown",
   "metadata": {},
   "source": [
    "**1.2. Điều kiện và vòng lặp**\n",
    "\n",
    "Xem thêm:\n",
    "- [If-else statements in Python](https://overiq.com/python-101/if-else-statements-in-python/)\n",
    "- [Loops in Python](https://overiq.com/python-101/loops-in-python/)\n",
    "- [break and continue statement in Python](https://overiq.com/python-101/break-and-continue-statement-in-python/)"
   ]
  },
  {
   "cell_type": "code",
   "execution_count": null,
   "metadata": {},
   "outputs": [],
   "source": [
    "a = 5\n",
    "\n",
    "# điều kiện if\n",
    "if a > 5:\n",
    "    print(\"A is greater than 5\")\n",
    "\n",
    "# điều kiện if else\n",
    "if a > 5:\n",
    "    print(\"A is greater than 5\")\n",
    "else:\n",
    "    print(\"A is less than or equal to 5\")\n",
    "\n",
    "# điều kiện if elif else\n",
    "if a < 0:\n",
    "    print(\"A is less than 0\")\n",
    "elif a == 0:\n",
    "    print(\"A = 0\")\n",
    "else:\n",
    "    print(\"A is greater than 0\")\n",
    "\n",
    "# vòng lặp for in\n",
    "a = [ 1, 2, 3 ] # khai báo mảng\n",
    "for i in a:\n",
    "    print(i)\n",
    "\n",
    "for i in range(len(a)):\n",
    "    print(a[i])\n",
    "\n",
    "# biểu thức điều kiện\n",
    "e = 5 if a > 5 else 3\n",
    "\n",
    "# vòng lặp while\n",
    "i = 0\n",
    "while i < len(a):\n",
    "    print(a[i])\n",
    "    i += 1 "
   ]
  },
  {
   "cell_type": "markdown",
   "metadata": {},
   "source": [
    "**1.3. Hàm**\n",
    "\n",
    "Xem thêm:\n",
    "- [Functions in Python](https://overiq.com/python-101/functions-in-python/)"
   ]
  },
  {
   "cell_type": "code",
   "execution_count": 7,
   "metadata": {},
   "outputs": [
    {
     "name": "stdout",
     "output_type": "stream",
     "text": [
      "15.0\n",
      "Hello Tuấn\n",
      "Chao Xìn Tuấn\n"
     ]
    }
   ],
   "source": [
    "# định nghĩa 1 hàm, default parameter\n",
    "def multiply(a=0, b=0):\n",
    "    return a * b\n",
    "\n",
    "# hàm rỗng\n",
    "def empty_func():\n",
    "    pass\n",
    "\n",
    "print(multiply(a, b))\n",
    "\n",
    "# truyền hàm vào hàm\n",
    "def hello_tuan(f):\n",
    "    return f(\"Tuấn\")\n",
    "\n",
    "def say_hello(name):\n",
    "    return \"Hello \" + name\n",
    "\n",
    "func = say_hello\n",
    "print(hello_tuan(func))\n",
    "\n",
    "# lambda function\n",
    "chao_xin_func = lambda name: \"Chao Xìn \" + name\n",
    "print(hello_tuan(chao_xin_func))\n"
   ]
  },
  {
   "cell_type": "markdown",
   "metadata": {},
   "source": [
    "## 2. Python Data Structure \n",
    "\n",
    "**2.1. Danh sách**\n",
    "\n",
    "Xem thêm:\n",
    "- [Lists in Python](https://overiq.com/python-101/lists-in-python/)"
   ]
  },
  {
   "cell_type": "code",
   "execution_count": null,
   "metadata": {},
   "outputs": [],
   "source": [
    "a = [] # mảng rỗng\n",
    "a = [ 1, 2, 3, 5, 7 ] # khai báo mảng\n",
    "print(a[3]) # truy xuất mảng\n",
    "print(a[-1]) # truy xuất phần tử cuối, dùng chỉ số âm để đi ngược từ cuối lên đầu\n",
    "\n",
    "b = [ 1, \"ahihi\", { \"ahehe\": \"ahihi\" }] # mảng phần tử khác kiểu\n",
    "\n",
    "lenght = len(a) # tính độ dài mảng\n",
    "sum_array = sum(a) # tính tổng\n",
    "\n",
    "c = a[:3] # cắt 3 phần tử đầu\n",
    "c = a[3:] # cắt phần tử thứ 3 về cuối\n",
    "c = a[1:3] # cắt phần tử 1 đến 3\n",
    "c = a[-3:] # cắt 3 phần tử cuối\n",
    "c = a[:] # copy toàn bộ mảng\n",
    "\n",
    "a = [1, 2, 3]\n",
    "b = [4, 5, 6]\n",
    "a.extend(b) # nối mảng, thay đổi a\n",
    "d = a + b # nối mảng\n",
    "\n",
    "# Repetition\n",
    "list2 = [ 1, 0 ]\n",
    "list3 = list2 * 5 \n",
    "print(list3)\n",
    "\n",
    "c = [ i * 2 for i in a ] # tạo mảng c bằng cách nhân 2 mỗi phần tử trong a, cú pháp list comprehension\n",
    "\n",
    "nums = [0, 1, 2, 3, 4]\n",
    "even_squares = [x ** 2 for x in nums if x % 2 == 0] # list comprehension with condition"
   ]
  },
  {
   "cell_type": "markdown",
   "metadata": {},
   "source": [
    "**2.2. Tuple**\n",
    "\n",
    "Xem thêm:\n",
    "- [Tuples in Python](https://overiq.com/python-101/tuples-in-python/)"
   ]
  },
  {
   "cell_type": "code",
   "execution_count": null,
   "metadata": {},
   "outputs": [],
   "source": [
    "a = (5, 4) # khai báo tuple\n",
    "\n",
    "x, y = a # nhận giá trị từ tuple, x = 5 và y = 4\n",
    "\n",
    "x, y = y, x # swap giá trị 2 biến bằng tuple"
   ]
  },
  {
   "cell_type": "markdown",
   "metadata": {},
   "source": [
    "**2.3. String**\n",
    "\n",
    "Xem thêm:\n",
    "- [Strings in Python](https://overiq.com/python-101/strings-in-python/)\n",
    "- [Strings Methods in Python](https://overiq.com/python-101/strings-methods-in-python/)"
   ]
  },
  {
   "cell_type": "code",
   "execution_count": 2,
   "metadata": {},
   "outputs": [
    {
     "output_type": "stream",
     "name": "stdout",
     "text": "\n\n\\n\nTuấn - 12 - 15.0\nTuấn - 13 - 0.600000\n"
    }
   ],
   "source": [
    "# xài dấu ' hay \" đều được\n",
    "str1 = 'ahihi'\n",
    "str2 = \"ahihi\" \n",
    "\n",
    "str3 = \"\\n\" # ký tự đặc biệt\n",
    "print(str3)\n",
    "\n",
    "str4 = r\"\\n\" # ko nhận ký tự dặc biệt\n",
    "print(str4)\n",
    "\n",
    "fmt1 = \"{} - {} - {}\".format(\"Tuấn\", 12, 15.0)\n",
    "print(fmt1)\n",
    "\n",
    "fmt2 = \"%s - %d - %f\" % (\"Tuấn\", 13, 0.6)\n",
    "print(fmt2)\n",
    "\n",
    "# string nhiều dòng\n",
    "str5 = \"\"\" string này\n",
    "có nhiều\n",
    "dòng\"\"\"\n"
   ]
  },
  {
   "cell_type": "markdown",
   "metadata": {},
   "source": [
    "**2.Dictionary/Map"
   ]
  },
  {
   "cell_type": "code",
   "execution_count": null,
   "metadata": {},
   "outputs": [],
   "source": [
    "dic1 = {} # dict rỗng\n",
    "dic1 = { \"Hoàng\": \"Nữ\", \"Trụ\", \"Nam\"} # khai báo dict\n",
    "\n",
    "gioi_tinh1 = dic1[\"Hoàng\"] # lấy giá trị, quăng exception nếu key ko tồn tại\n",
    "gioi_tính = dic1.get(\"Hoàng\", \"Bê đê\") # lấy giá trị, default nếu key ko tồn tại\n",
    "\n",
    "check_exist = \"Hoàng\" in dic1 # check xem key có tồn tại ko"
   ]
  },
  {
   "cell_type": "markdown",
   "metadata": {},
   "source": [
    "Set"
   ]
  },
  {
   "cell_type": "code",
   "execution_count": null,
   "metadata": {},
   "outputs": [],
   "source": [
    "set1 = set() # khai báo set\n",
    "set1.add(0) # add phần tử, set1 = { 0 }\n",
    "set1.add(1) # set1 = {0,1}\n",
    "set1.add(1) # set1 vẫn = {0,1}"
   ]
  },
  {
   "cell_type": "markdown",
   "metadata": {},
   "source": [
    "## 3. Basic Data Manipulation with Pandas\n",
    "\n",
    "Pandas is a Python library to manipulate data.\n",
    "\n",
    "These are steps to get start:\n",
    "\n",
    "**Import library**"
   ]
  },
  {
   "cell_type": "code",
   "execution_count": 1,
   "metadata": {},
   "outputs": [],
   "source": [
    "import pandas as pd"
   ]
  },
  {
   "cell_type": "markdown",
   "metadata": {},
   "source": [
    "**Create a simple DataFrame**\n",
    "\n",
    "Syntax:\n",
    "\n",
    "```python\n",
    "pd.DataFrame({column1 : value1, column2 : value2, column3 : value3})\n",
    "```\n",
    "\n",
    "You can have anything as column names and anything as values. The only requirement is to have all value lists being of equal length (all are of length 3 in this example)\n",
    "\n"
   ]
  },
  {
   "cell_type": "code",
   "execution_count": 2,
   "metadata": {},
   "outputs": [
    {
     "output_type": "execute_result",
     "data": {
      "text/plain": "  name  age   pet\n0  Bob   20   cat\n1  Jen   30   dog\n2  Tim   40  bird",
      "text/html": "<div>\n<style scoped>\n    .dataframe tbody tr th:only-of-type {\n        vertical-align: middle;\n    }\n\n    .dataframe tbody tr th {\n        vertical-align: top;\n    }\n\n    .dataframe thead th {\n        text-align: right;\n    }\n</style>\n<table border=\"1\" class=\"dataframe\">\n  <thead>\n    <tr style=\"text-align: right;\">\n      <th></th>\n      <th>name</th>\n      <th>age</th>\n      <th>pet</th>\n    </tr>\n  </thead>\n  <tbody>\n    <tr>\n      <th>0</th>\n      <td>Bob</td>\n      <td>20</td>\n      <td>cat</td>\n    </tr>\n    <tr>\n      <th>1</th>\n      <td>Jen</td>\n      <td>30</td>\n      <td>dog</td>\n    </tr>\n    <tr>\n      <th>2</th>\n      <td>Tim</td>\n      <td>40</td>\n      <td>bird</td>\n    </tr>\n  </tbody>\n</table>\n</div>"
     },
     "metadata": {},
     "execution_count": 2
    }
   ],
   "source": [
    "df = pd.DataFrame({'name':['Bob','Jen','Tim'],\n",
    "                   'age':[20,30,40],\n",
    "                   'pet':['cat', 'dog', 'bird']})\n",
    "\n",
    "df"
   ]
  },
  {
   "cell_type": "markdown",
   "metadata": {},
   "source": [
    "**Xem các cột và đếm số dòng dữ liệu**"
   ]
  },
  {
   "cell_type": "code",
   "execution_count": 9,
   "metadata": {},
   "outputs": [
    {
     "output_type": "stream",
     "name": "stdout",
     "text": "Index(['name', 'age', 'pet'], dtype='object')\nname    3\nage     3\npet     3\ndtype: int64\n"
    }
   ],
   "source": [
    "print(df.columns)\n",
    "print(df.count())"
   ]
  },
  {
   "cell_type": "markdown",
   "metadata": {},
   "source": [
    "**View basic statistic of numeric column**"
   ]
  },
  {
   "cell_type": "code",
   "execution_count": 4,
   "metadata": {},
   "outputs": [
    {
     "output_type": "execute_result",
     "data": {
      "text/plain": "     count  mean   std   min   25%   50%   75%   max\nage    3.0  30.0  10.0  20.0  25.0  30.0  35.0  40.0",
      "text/html": "<div>\n<style scoped>\n    .dataframe tbody tr th:only-of-type {\n        vertical-align: middle;\n    }\n\n    .dataframe tbody tr th {\n        vertical-align: top;\n    }\n\n    .dataframe thead th {\n        text-align: right;\n    }\n</style>\n<table border=\"1\" class=\"dataframe\">\n  <thead>\n    <tr style=\"text-align: right;\">\n      <th></th>\n      <th>count</th>\n      <th>mean</th>\n      <th>std</th>\n      <th>min</th>\n      <th>25%</th>\n      <th>50%</th>\n      <th>75%</th>\n      <th>max</th>\n    </tr>\n  </thead>\n  <tbody>\n    <tr>\n      <th>age</th>\n      <td>3.0</td>\n      <td>30.0</td>\n      <td>10.0</td>\n      <td>20.0</td>\n      <td>25.0</td>\n      <td>30.0</td>\n      <td>35.0</td>\n      <td>40.0</td>\n    </tr>\n  </tbody>\n</table>\n</div>"
     },
     "metadata": {},
     "execution_count": 4
    }
   ],
   "source": [
    "df.describe().T"
   ]
  },
  {
   "cell_type": "markdown",
   "metadata": {},
   "source": [
    "**Get first 2 rows to review**"
   ]
  },
  {
   "cell_type": "code",
   "execution_count": 5,
   "metadata": {},
   "outputs": [
    {
     "output_type": "execute_result",
     "data": {
      "text/plain": "  name  age   pet\n0  Bob   20   cat\n1  Jen   30   dog\n2  Tim   40  bird",
      "text/html": "<div>\n<style scoped>\n    .dataframe tbody tr th:only-of-type {\n        vertical-align: middle;\n    }\n\n    .dataframe tbody tr th {\n        vertical-align: top;\n    }\n\n    .dataframe thead th {\n        text-align: right;\n    }\n</style>\n<table border=\"1\" class=\"dataframe\">\n  <thead>\n    <tr style=\"text-align: right;\">\n      <th></th>\n      <th>name</th>\n      <th>age</th>\n      <th>pet</th>\n    </tr>\n  </thead>\n  <tbody>\n    <tr>\n      <th>0</th>\n      <td>Bob</td>\n      <td>20</td>\n      <td>cat</td>\n    </tr>\n    <tr>\n      <th>1</th>\n      <td>Jen</td>\n      <td>30</td>\n      <td>dog</td>\n    </tr>\n    <tr>\n      <th>2</th>\n      <td>Tim</td>\n      <td>40</td>\n      <td>bird</td>\n    </tr>\n  </tbody>\n</table>\n</div>"
     },
     "metadata": {},
     "execution_count": 5
    }
   ],
   "source": [
    "df.head(2)"
   ]
  },
  {
   "cell_type": "markdown",
   "metadata": {},
   "source": [
    "**Get last 2 row to review**"
   ]
  },
  {
   "cell_type": "code",
   "execution_count": 6,
   "metadata": {},
   "outputs": [
    {
     "output_type": "execute_result",
     "data": {
      "text/plain": "  name  age   pet\n1  Jen   30   dog\n2  Tim   40  bird",
      "text/html": "<div>\n<style scoped>\n    .dataframe tbody tr th:only-of-type {\n        vertical-align: middle;\n    }\n\n    .dataframe tbody tr th {\n        vertical-align: top;\n    }\n\n    .dataframe thead th {\n        text-align: right;\n    }\n</style>\n<table border=\"1\" class=\"dataframe\">\n  <thead>\n    <tr style=\"text-align: right;\">\n      <th></th>\n      <th>name</th>\n      <th>age</th>\n      <th>pet</th>\n    </tr>\n  </thead>\n  <tbody>\n    <tr>\n      <th>1</th>\n      <td>Jen</td>\n      <td>30</td>\n      <td>dog</td>\n    </tr>\n    <tr>\n      <th>2</th>\n      <td>Tim</td>\n      <td>40</td>\n      <td>bird</td>\n    </tr>\n  </tbody>\n</table>\n</div>"
     },
     "metadata": {},
     "execution_count": 6
    }
   ],
   "source": [
    "df.tail(2)"
   ]
  },
  {
   "cell_type": "markdown",
   "metadata": {},
   "source": [
    "**Chọn các con pet là `bird`**"
   ]
  },
  {
   "cell_type": "code",
   "execution_count": 8,
   "metadata": {},
   "outputs": [
    {
     "output_type": "execute_result",
     "data": {
      "text/plain": "  name  age   pet\n2  Tim   40  bird",
      "text/html": "<div>\n<style scoped>\n    .dataframe tbody tr th:only-of-type {\n        vertical-align: middle;\n    }\n\n    .dataframe tbody tr th {\n        vertical-align: top;\n    }\n\n    .dataframe thead th {\n        text-align: right;\n    }\n</style>\n<table border=\"1\" class=\"dataframe\">\n  <thead>\n    <tr style=\"text-align: right;\">\n      <th></th>\n      <th>name</th>\n      <th>age</th>\n      <th>pet</th>\n    </tr>\n  </thead>\n  <tbody>\n    <tr>\n      <th>2</th>\n      <td>Tim</td>\n      <td>40</td>\n      <td>bird</td>\n    </tr>\n  </tbody>\n</table>\n</div>"
     },
     "metadata": {},
     "execution_count": 8
    }
   ],
   "source": [
    "df[df.pet == 'bird']"
   ]
  },
  {
   "cell_type": "markdown",
   "metadata": {},
   "source": [
    "## 4. Exercise\n",
    "\n",
    "### 4.1. Python Exercise"
   ]
  },
  {
   "cell_type": "markdown",
   "metadata": {},
   "source": [
    "**1. Viết hàm tìm min và max của mảng**"
   ]
  },
  {
   "cell_type": "code",
   "execution_count": null,
   "metadata": {},
   "outputs": [],
   "source": [
    "arr = [ 1, 5, 2, 9, 4, 6, 7, 5, 9, 6, 4, 3, 1, 8, 8]\n",
    "\n",
    "def min_max(array):\n",
    "    # Your code here\n",
    "    pass\n",
    "\n",
    "min_value, max_value = min_max(arr)\n",
    "print(\"Min = \", min_value)\n",
    "print(\"Max = \", max_value)"
   ]
  },
  {
   "cell_type": "markdown",
   "metadata": {},
   "source": [
    "**2. Đọc dữ liệu từ bài báo và đếm số từ duy nhất trong bài báo này**"
   ]
  },
  {
   "cell_type": "code",
   "execution_count": null,
   "metadata": {},
   "outputs": [],
   "source": [
    "article_path = '../data/01-article.txt'\n",
    "\n",
    "# Your mission is to read data from article in the link above\n",
    "# and then count distinguish words in the article.\n"
   ]
  },
  {
   "cell_type": "markdown",
   "metadata": {},
   "source": [
    "**3. Nhập số giờ và phút. Tính góc giữa kim giờ và kim phút theo đơn vị độ**"
   ]
  },
  {
   "cell_type": "code",
   "execution_count": null,
   "metadata": {},
   "outputs": [],
   "source": [
    "# 1 <= h <= 12\n",
    "# 0 <= m <= 59\n",
    "def calculate_degree(h, m):\n",
    "    # Your code here\n",
    "    pass\n",
    "\n",
    "print(calculate_degree(12, 0))\n",
    "print(calculate_degree(12, 15))\n",
    "print(calculate_degree(1, 30))\n",
    "print(calculate_degree(5, 10))"
   ]
  },
  {
   "cell_type": "markdown",
   "metadata": {},
   "source": [
    "### 4.2. Pandas\n",
    "\n",
    "**1. Read Titanic dataset using Pandas and create simple DataFrame**"
   ]
  },
  {
   "cell_type": "code",
   "execution_count": null,
   "metadata": {},
   "outputs": [],
   "source": [
    "import pandas as pd\n",
    "\n",
    "titanic_path = '../data/01-titanic-train-set.csv'\n",
    "\n",
    "# Your code here"
   ]
  },
  {
   "cell_type": "markdown",
   "metadata": {},
   "source": [
    "**2. What was the average age of the survivors?** "
   ]
  },
  {
   "cell_type": "code",
   "execution_count": null,
   "metadata": {},
   "outputs": [],
   "source": [
    "# Your code here"
   ]
  },
  {
   "cell_type": "markdown",
   "metadata": {},
   "source": [
    "**3. How many men and women were on the Titanic?**\n"
   ]
  },
  {
   "cell_type": "code",
   "execution_count": null,
   "metadata": {},
   "outputs": [],
   "source": [
    "# Your code here"
   ]
  }
 ],
 "metadata": {
  "kernelspec": {
   "display_name": "Python 3.7.5 64-bit",
   "language": "python",
   "name": "python37564bitfcc74e3f0ebe459eb95cd65d498d5433"
  },
  "language_info": {
   "codemirror_mode": {
    "name": "ipython",
    "version": 3
   },
   "file_extension": ".py",
   "mimetype": "text/x-python",
   "name": "python",
   "nbconvert_exporter": "python",
   "pygments_lexer": "ipython3",
   "version": "3.7.7-final"
  }
 },
 "nbformat": 4,
 "nbformat_minor": 2
}