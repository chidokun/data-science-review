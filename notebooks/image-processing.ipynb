{
 "cells": [
  {
   "cell_type": "markdown",
   "metadata": {},
   "source": [
    "# Fundamental of Image Processing\n",
    "\n",
    "Phần này giới thiệu một số khái niệm cơ bản về xử lý ảnh, thao tác với hình ảnh dùng Python\n",
    "\n",
    "Tham khảo:\n",
    "\n",
    "- [Giới thiệu về xử lý ảnh](https://nttuan8.com/bai-5-gioi-thieu-ve-xu-ly-anh/)\n",
    "- [Kernel (image processing)](https://en.wikipedia.org/wiki/Kernel_(image_processing))\n"
   ]
  },
  {
   "cell_type": "markdown",
   "metadata": {},
   "source": [
    "## 1. Hệ màu RGB\n",
    "\n",
    "Ảnh trong máy tính được biểu diễn dưới dạng hệ màu RGB. Gồm 3 màu: Red (Đỏ), Green (Xanh lá), Blue (Xanh dương). Khi trộn 3 màu này với tỉ lệ nhất định sẽ tạo ra các màu khác nhau.\n",
    "\n",
    "![](https://i0.wp.com/nttuan8.com/wp-content/uploads/2019/03/RGB.png?w=1400&ssl=1)\n",
    "\n",
    "**Pixel** là 1 đơn vị cơ bản nhất để tạo thành ảnh kỹ thuật số. Pixel trong hệ RGB được biểu diễn bằng 3 số nguyên r, g, b trong khoảng từ \\[0, 255\\]. tổng số màu có thể biểu diễn là $256*256*256=16.777.216$\n",
    "\n",
    "Kích thước ảnh được đo bằng chiều dài x chiều rộng. VD: một bức ảnh có chiều dài 800x600 sẽ được biểu diễn bằng ma trận pixel 600x800 (cần ôn lại kiến thức Đại số tuyến tính)\n",
    "\n",
    "Để tiện cho việc xử lý ảnh, ta sẽ tách ma trận ra 3 **channel** mảu R, G, B. Mỗi channel là 1 ma trận chỉ chứa riêng giá trị của kênh màu đó.\n",
    "\n",
    "**Vector** là dữ liệu có 1 chiều.\n",
    "\n",
    "**Matrix** là dữ liệu có 2 chiều.\n",
    "\n",
    "**Tensor** là dữ liệu có nhiều hơn 2 chiều.\n",
    "\n",
    "Ảnh màu trên máy tính sẽ được biểu diễn dưới dạng **tensor 3 chiều** gồm chiều dài * chiều rộng * 3 kênh màu.\n",
    "\n"
   ]
  },
  {
   "cell_type": "markdown",
   "metadata": {},
   "source": [
    "# 2. Ảnh xám\n",
    "\n",
    "Mỗi pixel ảnh xám được biểu diễn bằng 1 giá trị từ 0 tới 255 để biểu diễn độ sáng. Vì vậy, ảnh xám chỉ cần dùng 1 ma trận là đủ.\n",
    "\n",
    "![](https://i2.wp.com/nttuan8.com/wp-content/uploads/2019/03/gray.jpg?w=800&ssl=1)\n",
    "\n",
    "Để chuyển từ ảnh màu sang ảnh xám, có thể dùng công thức:\n",
    "\n",
    "$$L = \\frac{299}{1000}R + \\frac{587}{1000}G + \\frac{114}{1000}B$$"
   ]
  },
  {
   "cell_type": "markdown",
   "metadata": {},
   "source": [
    "# 3. Phép tích chập (Convolution)\n",
    "\n",
    "## 3.1. Convolution\n",
    "\n",
    "Cho ma trận ảnh $X$, ta định nghĩa **kernel** $W$ là ma trận vuông kích thước $k$ với $k$ lẻ.\n",
    "\n",
    "Ta định nghĩa phép tích chập:\n",
    "\n",
    "$$Y=X\\otimes W$$\n",
    "\n",
    "![](https://i0.wp.com/nttuan8.com/wp-content/uploads/2019/03/c1.png?w=939&ssl=1)\n",
    "\n",
    "Cách tính như sau:\n",
    "\n",
    "![](https://i1.wp.com/nttuan8.com/wp-content/uploads/2019/03/giphy.gif?w=1400&ssl=1)\n",
    "\n"
   ]
  },
  {
   "cell_type": "markdown",
   "metadata": {},
   "source": [
    "## 3.2. Padding\n",
    "\n",
    "Như phép tính trên, $Y$ thu được sẽ nhỏ hơn $X$, để thu được $Y$ có kích thước bằng $X$, ta thêm giá trị ở viền ngoài của ma trận.\n",
    "\n",
    "![](https://i0.wp.com/nttuan8.com/wp-content/uploads/2019/03/c3.png?w=490&ssl=1)\n",
    "\n",
    "Phép tính này là phép convolution với padding = 1. Với padding = k, ta thêm k vector 0 về mỗi phía của ma trận."
   ]
  },
  {
   "cell_type": "markdown",
   "metadata": {},
   "source": [
    "## 3.3. Stride\n",
    "\n",
    "Ở ví dụ trên, nếu thực hiện tuần tự các phần tử trong X, thu được Y có kích thước bằng X, thì ta gọi là **stride = 1**.\n",
    "\n",
    "![](https://i0.wp.com/nttuan8.com/wp-content/uploads/2019/03/c4.png?w=491&ssl=1)\n",
    "\n",
    "Tuy nhiên nếu stride=k (k > 1) thì ta chỉ thực hiện phép tính convolution trên các phần tử $x_{1+i*k,1+j*k}$. \n",
    "\n",
    "Ví dụ k = 2. Kích thước ma trận Y đã giảm còn 3x3.\n",
    "\n",
    "![](https://i2.wp.com/nttuan8.com/wp-content/uploads/2019/03/c5.png?w=492&ssl=1)\n",
    "\n",
    "Công thức tổng quát cho phép tính convolution của ma trận X kích thước m*n với kernel kích thước k*k, stride = s, padding = p ra ma trận Y kích thước $\\frac{m-k+2p}{s}+1) * (\\frac{n-k+2p}{s}+1)$.\n",
    "\n",
    "Stride thường dùng để giảm kích thước của ma trận sau phép tính convolution."
   ]
  },
  {
   "cell_type": "markdown",
   "metadata": {},
   "source": [
    "## 3.4. Ý nghĩa\n",
    "\n",
    "Mục đích của phép tính convolution trên ảnh là làm mờ, làm nét ảnh; xác định các đường;… Mỗi kernel khác nhau thì sẽ phép tính convolution sẽ có ý nghĩa khác nhau. Ví dụ:\n",
    "\n",
    "![](https://i2.wp.com/nttuan8.com/wp-content/uploads/2019/03/purpose.png?w=670&ssl=1)"
   ]
  },
  {
   "cell_type": "markdown",
   "metadata": {},
   "source": [
    "# 4. Thao tác với hình ảnh\n",
    "\n",
    "Có rất nhiều thư viện với những tính năng khác nhau, phần này sử dụng OpenCV để thao tác với hình ảnh.\n",
    "\n",
    "```sh\n",
    "pip install opencv-python\n",
    "```"
   ]
  },
  {
   "cell_type": "code",
   "execution_count": 26,
   "metadata": {},
   "outputs": [],
   "source": [
    "import cv2\n",
    "import numpy as np"
   ]
  },
  {
   "cell_type": "markdown",
   "metadata": {},
   "source": [
    "## 4.1. Load hình ảnh\n"
   ]
  },
  {
   "cell_type": "code",
   "execution_count": 21,
   "metadata": {},
   "outputs": [],
   "source": [
    "path = \"../data/images/image_1.jpg\"\n",
    "\n",
    "img = cv2.imread(path)"
   ]
  },
  {
   "cell_type": "markdown",
   "metadata": {},
   "source": [
    "## 4.2. Xem thông tin hình ảnh\n",
    "\n",
    "Lưu ý: Channel trong OpenCV được sắp xếp theo Blue, Green, Red."
   ]
  },
  {
   "cell_type": "code",
   "execution_count": 11,
   "metadata": {},
   "outputs": [
    {
     "output_type": "stream",
     "name": "stdout",
     "text": "Height:  620\nWidth:  500\nChannel:  3\n"
    }
   ],
   "source": [
    "height, width, channel = img.shape\n",
    "print(\"Height: \", height)\n",
    "print(\"Width: \", width)\n",
    "print(\"Channel: \", channel)"
   ]
  },
  {
   "cell_type": "markdown",
   "metadata": {},
   "source": [
    "## 4.3. Ghi ảnh\n"
   ]
  },
  {
   "cell_type": "code",
   "execution_count": 14,
   "metadata": {},
   "outputs": [
    {
     "output_type": "execute_result",
     "data": {
      "text/plain": "True"
     },
     "metadata": {},
     "execution_count": 14
    }
   ],
   "source": [
    "# clone ảnh\n",
    "img2 = img[::]\n",
    "\n",
    "# xóa màu xanh bằng cách set channel 0 về 0\n",
    "img2[:,:,0] = 0 \n",
    "\n",
    "# ghi ảnh\n",
    "cv2.imwrite(\"../data/images/image_2.jpg\", img2)"
   ]
  },
  {
   "cell_type": "markdown",
   "metadata": {},
   "source": [
    "## 4.4. Resize ảnh"
   ]
  },
  {
   "cell_type": "code",
   "execution_count": 22,
   "metadata": {},
   "outputs": [
    {
     "output_type": "execute_result",
     "data": {
      "text/plain": "True"
     },
     "metadata": {},
     "execution_count": 22
    }
   ],
   "source": [
    "new_height = 300\n",
    "new_width = 400\n",
    "\n",
    "# resize dùng kích thước tuyệt đối\n",
    "img_resized = cv2.resize(src=img, dsize=(new_width, new_height))\n",
    "cv2.imwrite(\"../data/images/image_1_resized.jpg\", img_resized)\n",
    "\n",
    "# resize dùng tỉ lệ\n",
    "img_resized_2 = cv2.resize(src=img, dsize=None, fx=0.5, fy=1)\n",
    "cv2.imwrite(\"../data/images/image_1_resized2.jpg\", img_resized_2)"
   ]
  },
  {
   "cell_type": "markdown",
   "metadata": {},
   "source": [
    "## 4.5. Crop ảnh\n"
   ]
  },
  {
   "cell_type": "code",
   "execution_count": 23,
   "metadata": {},
   "outputs": [
    {
     "output_type": "execute_result",
     "data": {
      "text/plain": "True"
     },
     "metadata": {},
     "execution_count": 23
    }
   ],
   "source": [
    "# crop ảnh theo vùng y (50 -> 400), vùng x (240 -> 720)\n",
    "img_crop = img[50:400, 240:720, :]\n",
    "cv2.imwrite(\"../data/images/image_1_crop.jpg\", img_crop)"
   ]
  },
  {
   "cell_type": "markdown",
   "metadata": {},
   "source": [
    "## 4.6. Padding ảnh\n",
    "\n",
    "- Padding ảnh là việc mà mình thêm các pixel vào các cạnh của ảnh để mở rộng ảnh ra.\n",
    "- Thông thường giá trị pixel padding thêm sẽ là zero. Tức có màu đen.\n",
    "- Padding sẽ cho hiệu ứng zoom out. Tức nội dung ảnh sẽ nhỏ đi so với toàn ảnh."
   ]
  },
  {
   "cell_type": "code",
   "execution_count": 29,
   "metadata": {},
   "outputs": [
    {
     "output_type": "execute_result",
     "data": {
      "text/plain": "True"
     },
     "metadata": {},
     "execution_count": 29
    }
   ],
   "source": [
    "# tạo ma trận với kích thước mong muốn\n",
    "img_pad = np.zeros([1000, 1000, 3])\n",
    "\n",
    "# chuyển ảnh thành màu trắng\n",
    "img_pad += 255\n",
    "\n",
    "# thiết đặt vị trí ảnh gốc\n",
    "y = 140\n",
    "x = 200\n",
    "img_pad[y:y+height, x:x+width,:] = img\n",
    "\n",
    "cv2.imwrite(\"../data/images/image_1_padding.jpg\", img_pad)\n"
   ]
  },
  {
   "cell_type": "markdown",
   "metadata": {},
   "source": [
    "## 4.7. Đổi mức sáng\n",
    "\n",
    "Công thức:\n",
    "\n",
    "$$g(x,y)=\\alpha*f(x,y)+\\beta$$"
   ]
  },
  {
   "cell_type": "code",
   "execution_count": 36,
   "metadata": {},
   "outputs": [
    {
     "output_type": "execute_result",
     "data": {
      "text/plain": "True"
     },
     "metadata": {},
     "execution_count": 36
    }
   ],
   "source": [
    "def change_brightness(img, alpha, beta):\n",
    "    img_new = np.asarray(alpha*img + beta, dtype=int)   # cast pixel values to int\n",
    "    img_new[img_new>255] = 255\n",
    "    img_new[img_new<0] = 0\n",
    "    return img_new\n",
    "\n",
    "cv2.imwrite(\"../data/images/image_1_down.jpg\", change_brightness(img, 0.5, 1))\n",
    "cv2.imwrite(\"../data/images/image_1_up.jpg\", change_brightness(img, 1, 2))"
   ]
  },
  {
   "cell_type": "code",
   "execution_count": null,
   "metadata": {},
   "outputs": [],
   "source": []
  }
 ],
 "metadata": {
  "language_info": {
   "codemirror_mode": {
    "name": "ipython",
    "version": 2
   },
   "file_extension": ".py",
   "mimetype": "text/x-python",
   "name": "python",
   "nbconvert_exporter": "python",
   "pygments_lexer": "ipython2",
   "version": "3.7.7-final"
  },
  "orig_nbformat": 2,
  "kernelspec": {
   "name": "python37564bitfcc74e3f0ebe459eb95cd65d498d5433",
   "display_name": "Python 3.7.5 64-bit"
  }
 },
 "nbformat": 4,
 "nbformat_minor": 2
}