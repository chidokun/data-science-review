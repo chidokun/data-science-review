{
 "cells": [
  {
   "cell_type": "markdown",
   "metadata": {},
   "source": [
    "# Basic Statistic and Data Visualization\n",
    "\n",
    "Phần này tiếp tục giới thiệu một số cách thống kê, khảo sát cơ bản và vẽ chart để phân tích dữ liệu.\n",
    "\n",
    "## 1. Statistic\n",
    "\n",
    "Create a DataFrame of Titanic dataset"
   ]
  },
  {
   "cell_type": "code",
   "execution_count": 1,
   "metadata": {},
   "outputs": [],
   "source": [
    "import pandas as pd\n",
    "\n",
    "titanic = pd.read_csv('../data/01-titanic-train-set.csv')"
   ]
  },
  {
   "cell_type": "markdown",
   "metadata": {},
   "source": [
    "### 1.1. Khảo sát thuộc tính của dữ liệu\n",
    "\n",
    "**Khảo sát số lượng hàng, cột**"
   ]
  },
  {
   "cell_type": "code",
   "execution_count": 3,
   "metadata": {},
   "outputs": [
    {
     "output_type": "stream",
     "name": "stdout",
     "text": "Row:  891\nColumn:  12\n"
    }
   ],
   "source": [
    "row, column = titanic.shape\n",
    "print(\"Row: \", row)\n",
    "print(\"Column: \", column)"
   ]
  },
  {
   "cell_type": "markdown",
   "metadata": {},
   "source": [
    "**Xem tên các cột**"
   ]
  },
  {
   "cell_type": "code",
   "execution_count": 5,
   "metadata": {},
   "outputs": [
    {
     "output_type": "execute_result",
     "data": {
      "text/plain": "['PassengerId',\n 'Survived',\n 'Pclass',\n 'Name',\n 'Sex',\n 'Age',\n 'SibSp',\n 'Parch',\n 'Ticket',\n 'Fare',\n 'Cabin',\n 'Embarked']"
     },
     "metadata": {},
     "execution_count": 5
    }
   ],
   "source": [
    "list(titanic.columns)"
   ]
  },
  {
   "cell_type": "markdown",
   "metadata": {},
   "source": [
    "**Thống kê cơ bản đối với kiểu dữ liệu số học**\n",
    "\n",
    "Xem thêm:\n",
    "- [Pandas DataFrame.describe() method](https://www.geeksforgeeks.org/python-pandas-dataframe-describe-method/)"
   ]
  },
  {
   "cell_type": "code",
   "execution_count": 5,
   "metadata": {},
   "outputs": [
    {
     "output_type": "execute_result",
     "data": {
      "text/plain": "            count unique                                   top freq      mean  \\\nPassengerId   891    NaN                                   NaN  NaN       446   \nSurvived      891    NaN                                   NaN  NaN  0.383838   \nPclass        891    NaN                                   NaN  NaN   2.30864   \nName          891    891  Andersson, Miss. Ingeborg Constanzia    1       NaN   \nSex           891      2                                  male  577       NaN   \nAge           714    NaN                                   NaN  NaN   29.6991   \nSibSp         891    NaN                                   NaN  NaN  0.523008   \nParch         891    NaN                                   NaN  NaN  0.381594   \nTicket        891    681                              CA. 2343    7       NaN   \nFare          891    NaN                                   NaN  NaN   32.2042   \nCabin         204    147                               B96 B98    4       NaN   \nEmbarked      889      3                                     S  644       NaN   \n\n                  std   min   10%     25%      50%    75%      99%      max  \nPassengerId   257.354     1    90   223.5      446  668.5    882.1      891  \nSurvived     0.486592     0     0       0        0      1        1        1  \nPclass       0.836071     1     1       2        3      3        3        3  \nName              NaN   NaN   NaN     NaN      NaN    NaN      NaN      NaN  \nSex               NaN   NaN   NaN     NaN      NaN    NaN      NaN      NaN  \nAge           14.5265  0.42    14  20.125       28     38    65.87       80  \nSibSp         1.10274     0     0       0        0      1        5        8  \nParch        0.806057     0     0       0        0      0        4        6  \nTicket            NaN   NaN   NaN     NaN      NaN    NaN      NaN      NaN  \nFare          49.6934     0  7.55  7.9104  14.4542     31  249.006  512.329  \nCabin             NaN   NaN   NaN     NaN      NaN    NaN      NaN      NaN  \nEmbarked          NaN   NaN   NaN     NaN      NaN    NaN      NaN      NaN  ",
      "text/html": "<div>\n<style scoped>\n    .dataframe tbody tr th:only-of-type {\n        vertical-align: middle;\n    }\n\n    .dataframe tbody tr th {\n        vertical-align: top;\n    }\n\n    .dataframe thead th {\n        text-align: right;\n    }\n</style>\n<table border=\"1\" class=\"dataframe\">\n  <thead>\n    <tr style=\"text-align: right;\">\n      <th></th>\n      <th>count</th>\n      <th>unique</th>\n      <th>top</th>\n      <th>freq</th>\n      <th>mean</th>\n      <th>std</th>\n      <th>min</th>\n      <th>10%</th>\n      <th>25%</th>\n      <th>50%</th>\n      <th>75%</th>\n      <th>99%</th>\n      <th>max</th>\n    </tr>\n  </thead>\n  <tbody>\n    <tr>\n      <th>PassengerId</th>\n      <td>891</td>\n      <td>NaN</td>\n      <td>NaN</td>\n      <td>NaN</td>\n      <td>446</td>\n      <td>257.354</td>\n      <td>1</td>\n      <td>90</td>\n      <td>223.5</td>\n      <td>446</td>\n      <td>668.5</td>\n      <td>882.1</td>\n      <td>891</td>\n    </tr>\n    <tr>\n      <th>Survived</th>\n      <td>891</td>\n      <td>NaN</td>\n      <td>NaN</td>\n      <td>NaN</td>\n      <td>0.383838</td>\n      <td>0.486592</td>\n      <td>0</td>\n      <td>0</td>\n      <td>0</td>\n      <td>0</td>\n      <td>1</td>\n      <td>1</td>\n      <td>1</td>\n    </tr>\n    <tr>\n      <th>Pclass</th>\n      <td>891</td>\n      <td>NaN</td>\n      <td>NaN</td>\n      <td>NaN</td>\n      <td>2.30864</td>\n      <td>0.836071</td>\n      <td>1</td>\n      <td>1</td>\n      <td>2</td>\n      <td>3</td>\n      <td>3</td>\n      <td>3</td>\n      <td>3</td>\n    </tr>\n    <tr>\n      <th>Name</th>\n      <td>891</td>\n      <td>891</td>\n      <td>Andersson, Miss. Ingeborg Constanzia</td>\n      <td>1</td>\n      <td>NaN</td>\n      <td>NaN</td>\n      <td>NaN</td>\n      <td>NaN</td>\n      <td>NaN</td>\n      <td>NaN</td>\n      <td>NaN</td>\n      <td>NaN</td>\n      <td>NaN</td>\n    </tr>\n    <tr>\n      <th>Sex</th>\n      <td>891</td>\n      <td>2</td>\n      <td>male</td>\n      <td>577</td>\n      <td>NaN</td>\n      <td>NaN</td>\n      <td>NaN</td>\n      <td>NaN</td>\n      <td>NaN</td>\n      <td>NaN</td>\n      <td>NaN</td>\n      <td>NaN</td>\n      <td>NaN</td>\n    </tr>\n    <tr>\n      <th>Age</th>\n      <td>714</td>\n      <td>NaN</td>\n      <td>NaN</td>\n      <td>NaN</td>\n      <td>29.6991</td>\n      <td>14.5265</td>\n      <td>0.42</td>\n      <td>14</td>\n      <td>20.125</td>\n      <td>28</td>\n      <td>38</td>\n      <td>65.87</td>\n      <td>80</td>\n    </tr>\n    <tr>\n      <th>SibSp</th>\n      <td>891</td>\n      <td>NaN</td>\n      <td>NaN</td>\n      <td>NaN</td>\n      <td>0.523008</td>\n      <td>1.10274</td>\n      <td>0</td>\n      <td>0</td>\n      <td>0</td>\n      <td>0</td>\n      <td>1</td>\n      <td>5</td>\n      <td>8</td>\n    </tr>\n    <tr>\n      <th>Parch</th>\n      <td>891</td>\n      <td>NaN</td>\n      <td>NaN</td>\n      <td>NaN</td>\n      <td>0.381594</td>\n      <td>0.806057</td>\n      <td>0</td>\n      <td>0</td>\n      <td>0</td>\n      <td>0</td>\n      <td>0</td>\n      <td>4</td>\n      <td>6</td>\n    </tr>\n    <tr>\n      <th>Ticket</th>\n      <td>891</td>\n      <td>681</td>\n      <td>CA. 2343</td>\n      <td>7</td>\n      <td>NaN</td>\n      <td>NaN</td>\n      <td>NaN</td>\n      <td>NaN</td>\n      <td>NaN</td>\n      <td>NaN</td>\n      <td>NaN</td>\n      <td>NaN</td>\n      <td>NaN</td>\n    </tr>\n    <tr>\n      <th>Fare</th>\n      <td>891</td>\n      <td>NaN</td>\n      <td>NaN</td>\n      <td>NaN</td>\n      <td>32.2042</td>\n      <td>49.6934</td>\n      <td>0</td>\n      <td>7.55</td>\n      <td>7.9104</td>\n      <td>14.4542</td>\n      <td>31</td>\n      <td>249.006</td>\n      <td>512.329</td>\n    </tr>\n    <tr>\n      <th>Cabin</th>\n      <td>204</td>\n      <td>147</td>\n      <td>B96 B98</td>\n      <td>4</td>\n      <td>NaN</td>\n      <td>NaN</td>\n      <td>NaN</td>\n      <td>NaN</td>\n      <td>NaN</td>\n      <td>NaN</td>\n      <td>NaN</td>\n      <td>NaN</td>\n      <td>NaN</td>\n    </tr>\n    <tr>\n      <th>Embarked</th>\n      <td>889</td>\n      <td>3</td>\n      <td>S</td>\n      <td>644</td>\n      <td>NaN</td>\n      <td>NaN</td>\n      <td>NaN</td>\n      <td>NaN</td>\n      <td>NaN</td>\n      <td>NaN</td>\n      <td>NaN</td>\n      <td>NaN</td>\n      <td>NaN</td>\n    </tr>\n  </tbody>\n</table>\n</div>"
     },
     "metadata": {},
     "execution_count": 5
    }
   ],
   "source": [
    "percentiles = [ .1, .25, .5, .75, .99 ] # cài đặt percentile\n",
    "includes = ['object', 'float', 'int'] # bao gồm kiểu nào\n",
    "exclude = [ 'string' ] # loại bỏ kiểu nào\n",
    "\n",
    "titanic.describe(percentiles=percentiles, include=includes, exclude=exclude).T"
   ]
  },
  {
   "cell_type": "markdown",
   "metadata": {},
   "source": [
    "**Thống kê cơ bản một cột dữ liệu**"
   ]
  },
  {
   "cell_type": "code",
   "execution_count": 11,
   "metadata": {},
   "outputs": [
    {
     "output_type": "execute_result",
     "data": {
      "text/plain": "count    714.000000\nmean      29.699118\nstd       14.526497\nmin        0.420000\n25%       20.125000\n50%       28.000000\n75%       38.000000\nmax       80.000000\nName: Age, dtype: float64"
     },
     "metadata": {},
     "execution_count": 11
    }
   ],
   "source": [
    "# cách dùng tương tự phần trên\n",
    "titanic.Age.describe()"
   ]
  },
  {
   "cell_type": "markdown",
   "metadata": {},
   "source": [
    "Với kiểu dữ liệu rời rạc, thống kê các giá trị duy nhất"
   ]
  },
  {
   "cell_type": "code",
   "execution_count": 6,
   "metadata": {},
   "outputs": [
    {
     "output_type": "stream",
     "name": "stdout",
     "text": "['male', 'female']\n[0, 1]\n"
    }
   ],
   "source": [
    "print(list(titanic.Sex.unique()))\n",
    "print(list(titanic.Survived.unique()))"
   ]
  },
  {
   "cell_type": "markdown",
   "metadata": {},
   "source": [
    "### 1.2. Khảo sát quan hệ của dữ liệu\n",
    "\n",
    "#### 1.2.1. Tìm mối tương quan bằng Hiệp phương sai\n",
    "\n",
    "**Hiệp phương sai** (Covariance) biểu diễn sự cùng tăng/giảm của 2 biến dữ liệu. Công thức:\n",
    "\n",
    "$$Cov(X,Y)=\\frac{\\sum_{i}^{n}(x_{i}-x_{avg})(y_{i}-y_{avg})}{n-1}$$\n",
    "\n",
    "Nếu $Cov(X,Y) > 0$, thì $X$ và $Y$ đồng biến, nghĩa là cùng tăng/cùng giảm.\n"
   ]
  },
  {
   "cell_type": "code",
   "execution_count": 7,
   "metadata": {},
   "outputs": [
    {
     "output_type": "execute_result",
     "data": {
      "text/plain": "-0.5512960976817095"
     },
     "metadata": {},
     "execution_count": 7
    }
   ],
   "source": [
    "# VD: tuổi có tương quan với sống sót hay không?\n",
    "titanic.Age.cov(titanic.Survived)"
   ]
  },
  {
   "cell_type": "markdown",
   "metadata": {},
   "source": [
    "#### 1.2.2. Xác định mức độ tương quan bằng Hệ số tương quan"
   ]
  }
 ],
 "metadata": {
  "kernelspec": {
   "display_name": "Python 3.7.5 64-bit",
   "language": "python",
   "name": "python37564bitfcc74e3f0ebe459eb95cd65d498d5433"
  },
  "language_info": {
   "codemirror_mode": {
    "name": "ipython",
    "version": 3
   },
   "file_extension": ".py",
   "mimetype": "text/x-python",
   "name": "python",
   "nbconvert_exporter": "python",
   "pygments_lexer": "ipython3",
   "version": "3.7.7-final"
  }
 },
 "nbformat": 4,
 "nbformat_minor": 2
}