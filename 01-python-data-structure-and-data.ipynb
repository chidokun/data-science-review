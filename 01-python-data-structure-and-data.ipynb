{
 "cells": [
  {
   "cell_type": "markdown",
   "metadata": {},
   "source": [
    "# Python, Data Structure and Data\n",
    "\n",
    "Phần này sẽ hướng dẫn các bạn làm quen với Python, cách dùng một số cấu trúc dữ liệu và thao tác cơ bản với data dùng Pandas.\n"
   ]
  },
  {
   "cell_type": "markdown",
   "metadata": {},
   "source": [
    "## 1. Python\n",
    "\n",
    "Biến và kiểu dữ liệu"
   ]
  },
  {
   "cell_type": "code",
   "execution_count": 9,
   "metadata": {},
   "outputs": [
    {
     "name": "stdout",
     "output_type": "stream",
     "text": [
      "c =  8.0\n",
      "3\n"
     ]
    }
   ],
   "source": [
    "a = 5 # khai báo biến a kiểu nguyên\n",
    "b = 3.0 # khai báo biến b kiểu thực \n",
    "c = a + b # phép cộng\n",
    "print(\"c = \", c) # Hàm `print` để in dữ liệu\n",
    "\n",
    "c = a - b # phép trừ\n",
    "c = a * b # phép nhân\n",
    "c = a / b # phép chia\n",
    "c = a // b # phép chia nguyên\n",
    "c = a % b # phép chia dư\n",
    "c = a ** b # phép lũy thừa\n",
    "c = int(b) # chuyển kiểu\n",
    "print(c)"
   ]
  },
  {
   "cell_type": "markdown",
   "metadata": {},
   "source": [
    "Điều kiện và vòng lặp"
   ]
  },
  {
   "cell_type": "code",
   "execution_count": null,
   "metadata": {},
   "outputs": [],
   "source": [
    "a = 5\n",
    "\n",
    "# điều kiện if\n",
    "if a > 5:\n",
    "    print(\"A is greater than 5\")\n",
    "\n",
    "# điều kiện if else\n",
    "if a > 5:\n",
    "    print(\"A is greater than 5\")\n",
    "else:\n",
    "    print(\"A is less than or equal to 5\")\n",
    "\n",
    "# điều kiện if elif else\n",
    "if a < 0:\n",
    "    print(\"A is less than 0\")\n",
    "elif a == 0:\n",
    "    print(\"A = 0\")\n",
    "else:\n",
    "    print(\"A is greater than 0\")\n",
    "\n",
    "# vòng lặp for in\n",
    "a = [ 1, 2, 3 ] # khai báo mảng\n",
    "for i in a:\n",
    "    print(i)\n",
    "\n",
    "for i in range(len(a)):\n",
    "    print(a[i])\n",
    "\n",
    "# biểu thức điều kiện\n",
    "e = 5 if a > 5 else 3\n",
    "\n",
    "# vòng lặp while\n",
    "i = 0\n",
    "while i < len(a):\n",
    "    print(a[i])\n",
    "    i += 1 "
   ]
  },
  {
   "cell_type": "markdown",
   "metadata": {},
   "source": [
    "Hàm"
   ]
  },
  {
   "cell_type": "code",
   "execution_count": 7,
   "metadata": {},
   "outputs": [
    {
     "name": "stdout",
     "output_type": "stream",
     "text": [
      "15.0\n",
      "Hello Tuấn\n",
      "Chao Xìn Tuấn\n"
     ]
    }
   ],
   "source": [
    "# định nghĩa 1 hàm, default parameter\n",
    "def multiply(a=0, b=0):\n",
    "    return a * b;\n",
    "\n",
    "# hàm rỗng\n",
    "def empty_func():\n",
    "    pass\n",
    "\n",
    "print(multiply(a, b))\n",
    "\n",
    "# truyền hàm vào hàm\n",
    "def hello_tuan(f):\n",
    "    return f(\"Tuấn\")\n",
    "\n",
    "def say_hello(name):\n",
    "    return \"Hello \" + name;\n",
    "\n",
    "func = say_hello\n",
    "print(hello_tuan(func))\n",
    "\n",
    "# lambda function\n",
    "chao_xin_func = lambda name: \"Chao Xìn \" + name\n",
    "print(hello_tuan(chao_xin_func))\n"
   ]
  },
  {
   "cell_type": "markdown",
   "metadata": {},
   "source": [
    "## 2. Python Data Structure \n",
    "\n",
    "Mảng"
   ]
  },
  {
   "cell_type": "code",
   "execution_count": null,
   "metadata": {},
   "outputs": [],
   "source": [
    "a = [] # mảng rỗng\n",
    "a = [ 1, 2, 3, 5, 7 ] # khai báo mảng\n",
    "print(a[3]) # truy xuất mảng\n",
    "print(a[-1]) # truy xuất phần tử cuối, dùng chỉ số âm để đi ngược từ cuối lên đầu\n",
    "\n",
    "b = [ 1, \"ahihi\", { \"ahehe\": \"ahihi\" }] # mảng phần tử khác kiểu\n",
    "\n",
    "lenght = len(a) # tính độ dài mảng\n",
    "sum_array = sum(a) # tính tổng\n",
    "\n",
    "c = a[:3] # cắt 3 phần tử đầu\n",
    "c = a[3:] # cắt phần tử thứ 3 về cuối\n",
    "c = a[1:3] # cắt phần tử 1 đến 3\n",
    "c = a[-3:] # cắt 3 phần tử cuối\n",
    "c = a[:] # copy toàn bộ mảng\n",
    "\n",
    "a = [1, 2, 3]\n",
    "b = [4, 5, 6]\n",
    "a.extend(b) # nối mảng, thay đổi a\n",
    "d = a + b # nối mảng\n",
    "\n",
    "c = [ i * 2 for i in a ] # tạo mảng c bằng cách nhân 2 mỗi phần tử trong a, cú pháp list comprehension"
   ]
  },
  {
   "cell_type": "markdown",
   "metadata": {},
   "source": [
    "Tuple (mảng ko thể biến đổi)"
   ]
  },
  {
   "cell_type": "code",
   "execution_count": null,
   "metadata": {},
   "outputs": [],
   "source": [
    "a = (5, 4) # khai báo tuple\n",
    "\n",
    "x, y = a # nhận giá trị từ tuple, x = 5 và y = 4\n",
    "\n",
    "x, y = y, x # swap giá trị 2 biến bằng tuple"
   ]
  },
  {
   "cell_type": "markdown",
   "metadata": {},
   "source": [
    "String"
   ]
  },
  {
   "cell_type": "code",
   "execution_count": 1,
   "metadata": {},
   "outputs": [
    {
     "name": "stdout",
     "output_type": "stream",
     "text": [
      "\n",
      "\n",
      "\\n\n"
     ]
    }
   ],
   "source": [
    "# xài dấu ' hay \" đều được\n",
    "str1 = 'ahihi'\n",
    "str2 = \"ahihi\" \n",
    "\n",
    "str3 = \"\\n\" # ký tự đặc biệt\n",
    "print(str3)\n",
    "\n",
    "str4 = r\"\\n\" # ko nhận ký tự dặc biệt\n",
    "print(str4)\n",
    "\n",
    "# string nhiều dòng\n",
    "str5 = \"\"\" string này\n",
    "có nhiều\n",
    "dòng\"\"\"\n"
   ]
  },
  {
   "cell_type": "markdown",
   "metadata": {},
   "source": [
    "Dictionary/Map"
   ]
  },
  {
   "cell_type": "code",
   "execution_count": null,
   "metadata": {},
   "outputs": [],
   "source": [
    "dic1 = {} # dict rỗng\n",
    "dic1 = { \"Hoàng\": \"Nữ\", \"Trụ\", \"Nam\"} # khai báo dict\n",
    "\n",
    "gioi_tinh1 = dic1[\"Hoàng\"] # lấy giá trị, quăng exception nếu key ko tồn tại\n",
    "gioi_tính = dic1.get(\"Hoàng\", \"Bê đê\") # lấy giá trị, default nếu key ko tồn tại\n",
    "\n",
    "check_exist = \"Hoàng\" in dic1 # check xem key có tồn tại ko"
   ]
  },
  {
   "cell_type": "markdown",
   "metadata": {},
   "source": [
    "Set"
   ]
  },
  {
   "cell_type": "code",
   "execution_count": null,
   "metadata": {},
   "outputs": [],
   "source": [
    "set1 = set() # khai báo set\n",
    "set1.add(0) # add phần tử, set1 = { 0 }\n",
    "set1.add(1) # set1 = {0,1}\n",
    "set1.add(1) # set1 vẫn = {0,1}"
   ]
  },
  {
   "cell_type": "markdown",
   "metadata": {},
   "source": [
    "## 3. Thao tác cơ bản với data dùng Pandas\n",
    "\n"
   ]
  }
 ],
 "metadata": {
  "kernelspec": {
   "display_name": "Python 3.7.5 64-bit",
   "language": "python",
   "name": "python37564bitfcc74e3f0ebe459eb95cd65d498d5433"
  },
  "language_info": {
   "codemirror_mode": {
    "name": "ipython",
    "version": 3
   },
   "file_extension": ".py",
   "mimetype": "text/x-python",
   "name": "python",
   "nbconvert_exporter": "python",
   "pygments_lexer": "ipython3",
   "version": "3.7.7"
  }
 },
 "nbformat": 4,
 "nbformat_minor": 2
}
